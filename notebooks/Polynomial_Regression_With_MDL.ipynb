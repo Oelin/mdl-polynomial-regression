{
  "nbformat": 4,
  "nbformat_minor": 0,
  "metadata": {
    "colab": {
      "provenance": []
    },
    "kernelspec": {
      "name": "python3",
      "display_name": "Python 3"
    },
    "language_info": {
      "name": "python"
    }
  },
  "cells": [
    {
      "cell_type": "markdown",
      "source": [
        "# Polynomial Regression With MDL"
      ],
      "metadata": {
        "id": "zQ-US41PRoyt"
      }
    },
    {
      "cell_type": "markdown",
      "source": [
        ""
      ],
      "metadata": {
        "id": "h8hxB6CwooIX"
      }
    },
    {
      "cell_type": "markdown",
      "source": [
        "![](https://www.oreilly.com/library/view/hands-on-machine-learning/9781491962282/assets/mlst_04in03.png)"
      ],
      "metadata": {
        "id": "MooilGmIod7k"
      }
    },
    {
      "cell_type": "markdown",
      "source": [
        "In this notebook we show how to learn the parameters and structure of polynomial regression models using MDL."
      ],
      "metadata": {
        "id": "cKZkQ-W7RsSk"
      }
    },
    {
      "cell_type": "code",
      "source": [
        "#@markdown Install dependencies...\n",
        "\n",
        "!pip install sklearn >/dev/null\n",
        "\n",
        "import numpy as np\n",
        "\n",
        "from sklearn.preprocessing import PolynomialFeatures\n",
        "from sklearn.linear_model import LinearRegression "
      ],
      "metadata": {
        "cellView": "form",
        "id": "L47i56KvrE7u"
      },
      "execution_count": null,
      "outputs": []
    },
    {
      "cell_type": "markdown",
      "source": [
        "## 1. Polynomial Regression Models"
      ],
      "metadata": {
        "id": "xi4ZO6lTTt_J"
      }
    },
    {
      "cell_type": "markdown",
      "source": [
        "### 1.1. Coding"
      ],
      "metadata": {
        "id": "Fk9CWqgnfHiP"
      }
    },
    {
      "cell_type": "markdown",
      "source": [
        "An $n$th order polynomial can be unambiguously described using $n$ floating-point coefficients. We use a simple concatenative code to represent this information:\n"
      ],
      "metadata": {
        "id": "CHrqoh_3dvip"
      }
    },
    {
      "cell_type": "markdown",
      "source": [
        "#### $$ C_M(M) = C_M(n,d,c_1,\\dots,c_n) = C_U(d)\\,||\\,C_F(c_1)\\,||\\,\\dots\\,||\\,C_F(c_n)$$ "
      ],
      "metadata": {
        "id": "RNClttSUdr3a"
      }
    },
    {
      "cell_type": "markdown",
      "source": [
        "where:\n",
        "\n",
        "* $c_1,\\dots,c_n$ are the polynomial coefficients.\n",
        "* $d$ is the precision of each coefficient.\n",
        "* $C_U$ is a uniform binary code for unsigned integers.\n",
        "* $C_F$ is a uniform binary code for floating-point numbers."
      ],
      "metadata": {
        "id": "6jnqBj_Fdr55"
      }
    },
    {
      "cell_type": "markdown",
      "source": [
        "Then the model description length is given by"
      ],
      "metadata": {
        "id": "MTywzzCbfxQl"
      }
    },
    {
      "cell_type": "markdown",
      "source": [
        " $$L_M(M) = L_{N}(d) + nd$$"
      ],
      "metadata": {
        "id": "n4nd43xEdr9B"
      }
    },
    {
      "cell_type": "markdown",
      "source": [
        "Let $d \\in [0, 2^k)$."
      ],
      "metadata": {
        "id": "1NKeQFZrdsAa"
      }
    },
    {
      "cell_type": "markdown",
      "source": [
        "Then $L_N(d) = k$ is constant, and we can safely exclude it from the description length, giving"
      ],
      "metadata": {
        "id": "naf7pa3AjPMm"
      }
    },
    {
      "cell_type": "markdown",
      "source": [
        "#### $$L_M(M) = nd$$\n"
      ],
      "metadata": {
        "id": "_q53Hx-AeJun"
      }
    },
    {
      "cell_type": "markdown",
      "source": [
        "Once a polynomial has been specified, we can represent the data in a residual form: $(x, \\epsilon)$ such that $\\epsilon_i \\sim \\mathcal{N}(0, \\sigma)$. We quantize $\\epsilon$ to $d$ bits so that it's possible to compute exact probabilities for each residual. Then we can compress $\\epsilon$ via arithmetic coding. So the data description length is given by"
      ],
      "metadata": {
        "id": "oj5gQ3AbaH5k"
      }
    },
    {
      "cell_type": "markdown",
      "source": [
        "#### $$L_{D|M}(x, \\epsilon) = -\\log p_{D|M}(\\epsilon) = -\\sum \\log \\Phi\\left(\\epsilon_i \\pm 0.5 \\times 2^{-d}\\right)$$"
      ],
      "metadata": {
        "id": "txIEhSDMebCz"
      }
    },
    {
      "cell_type": "markdown",
      "source": [
        "> The probability of $\\epsilon$ is the product of individual residual probabilities. This follows from the assumption that residuals are i.i.d. Also note that we exclude $L(x)$ as it's constant."
      ],
      "metadata": {
        "id": "2fPwHNCBebFT"
      }
    },
    {
      "cell_type": "markdown",
      "source": [
        "Then the complete description length is given by "
      ],
      "metadata": {
        "id": "f3X1IMooZ6JH"
      }
    },
    {
      "cell_type": "markdown",
      "source": [
        "#### $$L_{M,D}(n,d,c_1,\\dots,c_n,x,y) = nd -\\sum_{i=1}^n \\log \\Phi\\left[(M(x_i) - y_i) \\pm 0.5 \\times 2^{-d}\\right]$$"
      ],
      "metadata": {
        "id": "DUb0dAFNemE0"
      }
    },
    {
      "cell_type": "markdown",
      "source": [
        "### 1.2. Implementation"
      ],
      "metadata": {
        "id": "ZnGiApXinOn5"
      }
    },
    {
      "cell_type": "markdown",
      "source": [
        "Let's implement polynomial regression models in Python, including a method to compute the description length."
      ],
      "metadata": {
        "id": "izLHwcFpnTvx"
      }
    },
    {
      "cell_type": "code",
      "source": [
        "sigma = 4"
      ],
      "metadata": {
        "id": "sjQrur0V8Fda"
      },
      "execution_count": null,
      "outputs": []
    },
    {
      "cell_type": "code",
      "source": [
        "def relu(x):\n",
        "  return x * (x > 0)"
      ],
      "metadata": {
        "id": "u5Otib7dOz5R"
      },
      "execution_count": null,
      "outputs": []
    },
    {
      "cell_type": "code",
      "source": [
        "# def quantize(number, bits):\n",
        "\n",
        "#   digits = np.ceil(np.log10(2 ** bits)).astype(int)\n",
        "#   trunc_num = np.abs(np.trunc(number)) + 0.0000001\n",
        "#   # print(trunc_num)\n",
        "\n",
        "#   len_whole = np.ceil(relu(np.log10(trunc_num)))\n",
        "\n",
        "#   fraction = np.round(number / (10 ** len_whole), digits) \n",
        "\n",
        "#   return fraction * (10 ** len_whole)"
      ],
      "metadata": {
        "id": "RjjvVbcSF2kJ"
      },
      "execution_count": null,
      "outputs": []
    },
    {
      "cell_type": "code",
      "source": [
        "#@markdown \n",
        "\n",
        "\n",
        "class PolynomialRegressionModel:\n",
        "\n",
        "\n",
        "  def __init__(self, order: int = 2, precision: int = 8):\n",
        "\n",
        "    self.order = order\n",
        "    self.precision = precision\n",
        "    self.precision_base10 = np.ceil(np.log10(2 ** precision)).astype(int)\n",
        "    self.preprocessor = PolynomialFeatures(order, include_bias=False)\n",
        "    self.regressor = LinearRegression()\n",
        "  \n",
        "\n",
        "  def fit(self, x, y):\n",
        "\n",
        "    x = self.preprocessor.fit_transform(x)\n",
        "    self.regressor.fit(x, y)\n",
        "  \n",
        "\n",
        "  def predict(self, x):\n",
        "\n",
        "    x = self.preprocessor.transform(x)\n",
        "    return self.regressor.predict(x)\n",
        "  \n",
        "\n",
        "  def sample(self, x):\n",
        "\n",
        "    return self.predict(x) + np.random.randn()\n",
        "  \n",
        "\n",
        "  def mdl(self, x, y):\n",
        "\n",
        "    quantized_coefs = quantize(self.regressor.coef_, self.precision)\n",
        "    quantized_intercept = quantize(self.regressor.intercept_, self.precision)\n",
        "\n",
        "    x = self.preprocessor.transform(x)\n",
        "\n",
        "    prediction = (x @ quantized_coefs.T) + quantized_intercept\n",
        "    epsilon = prediction - y\n",
        "\n",
        "    quantized_epsilon = quantize(epsilon, self.precision)\n",
        "    #plusminus = 0.5 * (10 ** -self.precision_base10)\n",
        "\n",
        "    plusminus = 0.0\n",
        "    #print(plusminus)\n",
        "\n",
        "    upper = quantized_epsilon + plusminus\n",
        "    lower = quantized_epsilon - plusminus\n",
        "    #epsilon = self.predict()\n",
        "\n",
        "\n",
        "    return lower, upper\n"
      ],
      "metadata": {
        "id": "aU6NQLP1ndCv"
      },
      "execution_count": null,
      "outputs": []
    },
    {
      "cell_type": "code",
      "source": [
        "def truth(x):\n",
        "  return (x ** 2) - (3 * x)"
      ],
      "metadata": {
        "id": "CxTyXJGF8_92"
      },
      "execution_count": null,
      "outputs": []
    },
    {
      "cell_type": "code",
      "source": [
        "data = np.array([\n",
        "    [x, truth(x) + np.random.randn()*sigma] for x in np.random.random(size=50)*10\n",
        "])"
      ],
      "metadata": {
        "id": "pFXMQDNgt3-I"
      },
      "execution_count": null,
      "outputs": []
    },
    {
      "cell_type": "code",
      "source": [
        "!pip install seaborn"
      ],
      "metadata": {
        "colab": {
          "base_uri": "https://localhost:8080/"
        },
        "id": "z4vHgoX-uGFR",
        "outputId": "53dad01a-86d1-43e3-f61b-f13c20e63c4c"
      },
      "execution_count": null,
      "outputs": [
        {
          "output_type": "stream",
          "name": "stdout",
          "text": [
            "Looking in indexes: https://pypi.org/simple, https://us-python.pkg.dev/colab-wheels/public/simple/\n",
            "Requirement already satisfied: seaborn in /usr/local/lib/python3.7/dist-packages (0.11.2)\n",
            "Requirement already satisfied: scipy>=1.0 in /usr/local/lib/python3.7/dist-packages (from seaborn) (1.7.3)\n",
            "Requirement already satisfied: pandas>=0.23 in /usr/local/lib/python3.7/dist-packages (from seaborn) (1.3.5)\n",
            "Requirement already satisfied: matplotlib>=2.2 in /usr/local/lib/python3.7/dist-packages (from seaborn) (3.2.2)\n",
            "Requirement already satisfied: numpy>=1.15 in /usr/local/lib/python3.7/dist-packages (from seaborn) (1.21.6)\n",
            "Requirement already satisfied: cycler>=0.10 in /usr/local/lib/python3.7/dist-packages (from matplotlib>=2.2->seaborn) (0.11.0)\n",
            "Requirement already satisfied: python-dateutil>=2.1 in /usr/local/lib/python3.7/dist-packages (from matplotlib>=2.2->seaborn) (2.8.2)\n",
            "Requirement already satisfied: kiwisolver>=1.0.1 in /usr/local/lib/python3.7/dist-packages (from matplotlib>=2.2->seaborn) (1.4.4)\n",
            "Requirement already satisfied: pyparsing!=2.0.4,!=2.1.2,!=2.1.6,>=2.0.1 in /usr/local/lib/python3.7/dist-packages (from matplotlib>=2.2->seaborn) (3.0.9)\n",
            "Requirement already satisfied: typing-extensions in /usr/local/lib/python3.7/dist-packages (from kiwisolver>=1.0.1->matplotlib>=2.2->seaborn) (4.1.1)\n",
            "Requirement already satisfied: pytz>=2017.3 in /usr/local/lib/python3.7/dist-packages (from pandas>=0.23->seaborn) (2022.2.1)\n",
            "Requirement already satisfied: six>=1.5 in /usr/local/lib/python3.7/dist-packages (from python-dateutil>=2.1->matplotlib>=2.2->seaborn) (1.15.0)\n"
          ]
        }
      ]
    },
    {
      "cell_type": "code",
      "source": [
        "import pandas as pd"
      ],
      "metadata": {
        "id": "m_2afw394a2X"
      },
      "execution_count": null,
      "outputs": []
    },
    {
      "cell_type": "code",
      "source": [
        "import seaborn as sns"
      ],
      "metadata": {
        "id": "x7tnTNTiuGrd"
      },
      "execution_count": null,
      "outputs": []
    },
    {
      "cell_type": "code",
      "source": [
        "sns.scatterplot(data=pd.DataFrame(data, columns=['x','y']), x='x', y='y', )"
      ],
      "metadata": {
        "colab": {
          "base_uri": "https://localhost:8080/",
          "height": 296
        },
        "id": "R9ju022auTSj",
        "outputId": "8807c964-4947-4e86-de4a-7157c9be1264"
      },
      "execution_count": null,
      "outputs": [
        {
          "output_type": "execute_result",
          "data": {
            "text/plain": [
              "<matplotlib.axes._subplots.AxesSubplot at 0x7f5da0eb9e10>"
            ]
          },
          "metadata": {},
          "execution_count": 160
        },
        {
          "output_type": "display_data",
          "data": {
            "text/plain": [
              "<Figure size 432x288 with 1 Axes>"
            ],
            "image/png": "[encoded data removed]"
          },
          "metadata": {
            "needs_background": "light"
          }
        }
      ]
    },
    {
      "cell_type": "code",
      "source": [
        "a = PolynomialRegressionModel()"
      ],
      "metadata": {
        "id": "T4xFncgZuN9L"
      },
      "execution_count": null,
      "outputs": []
    },
    {
      "cell_type": "code",
      "source": [
        "x=np.transpose([data.T[0]])\n",
        "y=np.transpose([data.T[1]])"
      ],
      "metadata": {
        "id": "Iw9KIlrQuQnZ"
      },
      "execution_count": null,
      "outputs": []
    },
    {
      "cell_type": "code",
      "source": [
        "a.fit(x, y)"
      ],
      "metadata": {
        "id": "0lxuJjCp6A8X"
      },
      "execution_count": null,
      "outputs": []
    },
    {
      "cell_type": "code",
      "source": [
        "a.mdl(x, y)"
      ],
      "metadata": {
        "colab": {
          "base_uri": "https://localhost:8080/"
        },
        "id": "qiUYPpEVAe8u",
        "outputId": "423188aa-0c62-4695-ddde-571e7cc3532f"
      },
      "execution_count": null,
      "outputs": [
        {
          "output_type": "execute_result",
          "data": {
            "text/plain": [
              "(array([[ 8.15 ],\n",
              "        [-9.59 ],\n",
              "        [ 0.356],\n",
              "        [ 4.43 ],\n",
              "        [ 2.66 ],\n",
              "        [ 0.168],\n",
              "        [ 0.553],\n",
              "        [-3.93 ],\n",
              "        [ 2.82 ],\n",
              "        [-4.95 ],\n",
              "        [-4.25 ],\n",
              "        [ 2.26 ],\n",
              "        [ 4.77 ],\n",
              "        [ 2.84 ],\n",
              "        [ 0.743],\n",
              "        [ 1.43 ],\n",
              "        [-5.63 ],\n",
              "        [ 7.17 ],\n",
              "        [-1.45 ],\n",
              "        [-3.23 ],\n",
              "        [ 0.328],\n",
              "        [ 5.65 ],\n",
              "        [ 4.08 ],\n",
              "        [-6.36 ],\n",
              "        [ 3.1  ],\n",
              "        [-2.98 ],\n",
              "        [-4.54 ],\n",
              "        [-1.63 ],\n",
              "        [-4.82 ],\n",
              "        [ 3.82 ],\n",
              "        [ 2.08 ],\n",
              "        [-1.19 ],\n",
              "        [-3.55 ],\n",
              "        [-2.07 ],\n",
              "        [-3.28 ],\n",
              "        [ 6.1  ],\n",
              "        [ 3.03 ],\n",
              "        [-4.2  ],\n",
              "        [-1.95 ],\n",
              "        [-2.1  ],\n",
              "        [ 2.57 ],\n",
              "        [-2.25 ],\n",
              "        [-7.45 ],\n",
              "        [ 0.589],\n",
              "        [-2.24 ],\n",
              "        [ 3.72 ],\n",
              "        [ 4.93 ],\n",
              "        [-1.02 ],\n",
              "        [-3.28 ],\n",
              "        [ 9.9  ]]), array([[ 8.15 ],\n",
              "        [-9.59 ],\n",
              "        [ 0.356],\n",
              "        [ 4.43 ],\n",
              "        [ 2.66 ],\n",
              "        [ 0.168],\n",
              "        [ 0.553],\n",
              "        [-3.93 ],\n",
              "        [ 2.82 ],\n",
              "        [-4.95 ],\n",
              "        [-4.25 ],\n",
              "        [ 2.26 ],\n",
              "        [ 4.77 ],\n",
              "        [ 2.84 ],\n",
              "        [ 0.743],\n",
              "        [ 1.43 ],\n",
              "        [-5.63 ],\n",
              "        [ 7.17 ],\n",
              "        [-1.45 ],\n",
              "        [-3.23 ],\n",
              "        [ 0.328],\n",
              "        [ 5.65 ],\n",
              "        [ 4.08 ],\n",
              "        [-6.36 ],\n",
              "        [ 3.1  ],\n",
              "        [-2.98 ],\n",
              "        [-4.54 ],\n",
              "        [-1.63 ],\n",
              "        [-4.82 ],\n",
              "        [ 3.82 ],\n",
              "        [ 2.08 ],\n",
              "        [-1.19 ],\n",
              "        [-3.55 ],\n",
              "        [-2.07 ],\n",
              "        [-3.28 ],\n",
              "        [ 6.1  ],\n",
              "        [ 3.03 ],\n",
              "        [-4.2  ],\n",
              "        [-1.95 ],\n",
              "        [-2.1  ],\n",
              "        [ 2.57 ],\n",
              "        [-2.25 ],\n",
              "        [-7.45 ],\n",
              "        [ 0.589],\n",
              "        [-2.24 ],\n",
              "        [ 3.72 ],\n",
              "        [ 4.93 ],\n",
              "        [-1.02 ],\n",
              "        [-3.28 ],\n",
              "        [ 9.9  ]]))"
            ]
          },
          "metadata": {},
          "execution_count": 422
        }
      ]
    }
  ]
}
